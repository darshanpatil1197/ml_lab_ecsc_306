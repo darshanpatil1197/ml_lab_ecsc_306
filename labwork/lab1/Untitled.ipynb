{
 "cells": [
  {
   "cell_type": "code",
   "execution_count": 53,
   "metadata": {},
   "outputs": [
    {
     "name": "stdout",
     "output_type": "stream",
     "text": [
      "14.9967346939\n",
      "-3.38343776164\n"
     ]
    }
   ],
   "source": [
    "import tensorflow as tf\n",
    "import numpy as np\n",
    "arrayX = np.array([10.5,12.3,11.8,23.2,15.6,14.9,15])\n",
    "arrayY = np.array([2.3,7.8,6.9,12.8,23.6,9.0,7.8])\n",
    "\n",
    "\n",
    "mean_x = np.mean(arrayX)\n",
    "mean_y = np.mean(arrayY)\n",
    "\n",
    "variance_x = np.var(arrayX)\n",
    "print(variance_x)\n",
    "cov_xy = np.cov(arrayX,arrayY)[1][0]\n",
    "\n",
    "c = tf.divide(cov_xy,variance_x)\n",
    "\n",
    "x = tf.multiply(c,mean_x)\n",
    "\n",
    "m = tf.subtract(mean_y,x)\n",
    "\n",
    "with tf.Session() as sess:\n",
    "    writer = tf.summary.FileWriter(\"/tmp/tboard/output\", sess.graph)\n",
    "    print(sess.run(m))\n",
    "    writer.close()"
   ]
  },
  {
   "cell_type": "code",
   "execution_count": 9,
   "metadata": {},
   "outputs": [
    {
     "name": "stdout",
     "output_type": "stream",
     "text": [
      "14.7571\n",
      "10.0286\n",
      "[[-4.25714302 -2.45714283 -2.95714283  8.44285774  0.84285736  0.1428566\n",
      "   0.24285698]]\n",
      "104.977\n"
     ]
    }
   ],
   "source": [
    "import tensorflow as tf\n",
    "\n",
    "with tf.name_scope(\"variance\"):\n",
    "    with tf.name_scope(\"mean_A\"):\n",
    "        A_array=tf.constant([10.5,12.3,11.8,23.2,15.6,14.9,15],shape=[1,7],name='A_array')\n",
    "        B_array=tf.constant([2.3,7.8,6.9,12.8,23.6,9.0,7.8],shape=[1,7],name='B_array')\n",
    "        A_mean=tf.reduce_mean(A_array)\n",
    "        sess=tf.Session()\n",
    "    print(sess.run(A_mean))\n",
    "    with tf.name_scope(\"mean_B\"):\n",
    "        B_mean=tf.reduce_mean(B_array)\n",
    "        sess=tf.Session()\n",
    "        print(sess.run(B_mean))\n",
    "\n",
    "\n",
    "d=tf.subtract(A_array,A_mean)\n",
    "sess=tf.Session()\n",
    "print(sess.run(d))\n",
    "\n",
    "e=tf.square(d)\n",
    "variance=tf.reduce_sum(e)\n",
    "sess=tf.Session()\n",
    "print(sess.run(variance))\n",
    "\n",
    "\n",
    " \n"
   ]
  },
  {
   "cell_type": "code",
   "execution_count": 10,
   "metadata": {},
   "outputs": [
    {
     "name": "stdout",
     "output_type": "stream",
     "text": [
      "81.7786\n"
     ]
    }
   ],
   "source": [
    "with tf.name_scope(\"co-variance\"):\n",
    "    g=tf.subtract(B_array,B_mean)\n",
    "    sess=tf.Session()\n",
    "    g=tf.multiply(d,g)\n",
    "    cov=tf.reduce_sum(g)\n",
    "    print(sess.run(cov))\n"
   ]
  },
  {
   "cell_type": "code",
   "execution_count": 11,
   "metadata": {},
   "outputs": [
    {
     "name": "stdout",
     "output_type": "stream",
     "text": [
      "0.779013\n",
      "-1.46744\n"
     ]
    }
   ],
   "source": [
    "with tf.name_scope(\"value_of_c\"):\n",
    "    c=tf.divide(cov,variance)\n",
    "    print(sess.run(c))\n",
    "\n",
    "with tf.name_scope(\"value_m\"):\n",
    "    i=tf.multiply(c,A_mean)\n",
    "    k=tf.subtract(B_mean,i)\n",
    "    print(sess.run(k))\n",
    "    \n",
    "\n",
    "with tf.Session() as sess:\n",
    "    writer = tf.summary.FileWriter(\"/tmp/tboard/output4\", sess.graph)\n",
    "    writer.close()"
   ]
  },
  {
   "cell_type": "code",
   "execution_count": null,
   "metadata": {
    "collapsed": true
   },
   "outputs": [],
   "source": []
  }
 ],
 "metadata": {
  "kernelspec": {
   "display_name": "Python 3",
   "language": "python",
   "name": "python3"
  }
 },
 "nbformat": 4,
 "nbformat_minor": 2
}
