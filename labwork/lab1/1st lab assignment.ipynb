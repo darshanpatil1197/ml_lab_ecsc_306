{
 "cells": [
  {
   "cell_type": "code",
   "execution_count": 14,
   "metadata": {},
   "outputs": [
    {
     "name": "stdout",
     "output_type": "stream",
     "text": [
      "25\n"
     ]
    }
   ],
   "source": [
    "## (a-b)^2 = a^2 + b^2 - 2ab\n",
    "import tensorflow as tf\n",
    "x = tf.constant(9)\n",
    "y = tf.constant(4)\n",
    "with tf.name_scope(\"lab1_assignment\"):\n",
    "    with tf.name_scope(\"Scope_X\"):\n",
    "        s = tf.multiply(x, x, name=\"square_of_x\")\n",
    "        t = tf.multiply(y, y, name=\"square_of_y\")\n",
    "    with tf.name_scope(\"Scope_Y\"):\n",
    "        z = tf.multiply(2, x)\n",
    "        q = tf.multiply(z, y, name=\"2xy\")\n",
    "\n",
    "with tf.name_scope(\"Scope_C\"):\n",
    "    f = tf.add(s,t)\n",
    "    k = tf.subtract(f, q, name=\"result\")\n",
    "\n",
    "\n",
    "\n",
    "with tf.Session() as sess:\n",
    "    writer = tf.summary.FileWriter(\"/tmp/tboard/klm\", sess.graph)\n",
    "    print(sess.run(k))\n",
    "    writer.close()"
   ]
  },
  {
   "cell_type": "code",
   "execution_count": 12,
   "metadata": {},
   "outputs": [
    {
     "name": "stdout",
     "output_type": "stream",
     "text": [
      "16\n"
     ]
    }
   ],
   "source": [
    "a=tf.constant(2)\n",
    "b=tf.constant(2)\n",
    "with tf.name_scope(\"ADD\"):\n",
    "    x1=tf.add(a,b)\n",
    "    with tf.name_scope(\"multiply\"):\n",
    "        x2=tf.multiply(a,a)\n",
    "        x3=tf.multiply(b,b)\n",
    "        x4=tf.multiply(a,b)\n",
    "        with tf.name_scope(\"equation\"):\n",
    "            x5=x2+x3-x4\n",
    "            x6=tf.multiply(x5,x1)\n",
    "sess=tf.Session()\n",
    "print(sess.run(x6))\n",
    "writer = tf.summary.FileWriter(\"/tmp/tboard/b\", sess.graph)\n",
    "\n"
   ]
  },
  {
   "cell_type": "code",
   "execution_count": null,
   "metadata": {
    "collapsed": true
   },
   "outputs": [],
   "source": []
  }
 ],
 "metadata": {
  "kernelspec": {
   "display_name": "Python 3",
   "language": "python",
   "name": "python3"
  },
  "language_info": {
   "codemirror_mode": {
    "name": "ipython",
    "version": 3
   },
   "file_extension": ".py",
   "mimetype": "text/x-python",
   "name": "python",
   "nbconvert_exporter": "python",
   "pygments_lexer": "ipython3",
   "version": "3.6.1"
  }
 },
 "nbformat": 4,
 "nbformat_minor": 2
}
