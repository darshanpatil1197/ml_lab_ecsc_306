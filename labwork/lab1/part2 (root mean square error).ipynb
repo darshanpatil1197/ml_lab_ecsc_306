{
 "cells": [
  {
   "cell_type": "code",
   "execution_count": null,
   "metadata": {
    "collapsed": true
   },
   "outputs": [],
   "source": [
    "##y=mx+c"
   ]
  },
  {
   "cell_type": "code",
   "execution_count": 3,
   "metadata": {},
   "outputs": [
    {
     "name": "stdout",
     "output_type": "stream",
     "text": [
      "18.1857\n",
      "17.6571\n",
      "[[ -5.88571262  16.01428795   5.31428719   3.2142868   -8.18571281\n",
      "   -5.2857132   -5.18571281]]\n",
      "451.509\n",
      "114.196\n",
      "0.25292\n",
      "13.0576\n",
      "13.0576\n"
     ]
    }
   ],
   "source": [
    "import tensorflow as tf\n",
    "\n",
    "with tf.name_scope(\"variance\"):\n",
    "    with tf.name_scope(\"mean_p\"):\n",
    "        A=tf.constant([12.3,34.2,23.5,21.4,10,12.9,13 ],shape=[1,7],name='A')\n",
    "        B=tf.constant([23.8,22.7,21.6,12.3,12.7,14.5,16],shape=[1,7],name='B')\n",
    "        p=tf.reduce_mean(A)\n",
    "        sess=tf.Session()\n",
    "    print(sess.run(p))\n",
    "    with tf.name_scope(\"mean_q\"):\n",
    "        q=tf.reduce_mean(B)\n",
    "        sess=tf.Session()\n",
    "        print(sess.run(q))\n",
    "d=tf.subtract(A,p)\n",
    "sess=tf.Session()\n",
    "print(sess.run(d))\n",
    "       \n",
    "e=tf.square(d)\n",
    "variance=tf.reduce_sum(e)\n",
    "sess=tf.Session()\n",
    "print(sess.run(variance))    \n",
    "    \n",
    "with tf.name_scope(\"covariance\"):\n",
    "    g=tf.subtract(B,q)\n",
    "    sess=tf.Session()\n",
    "    g=tf.multiply(d,g)\n",
    "    h=tf.reduce_sum(g)\n",
    "    print(sess.run(h))    \n",
    "\n",
    "with tf.name_scope(\"value_of_c\"):\n",
    "    j=tf.divide(h,variance)\n",
    "    print(sess.run(j))\n",
    "\n",
    "with tf.name_scope(\"value_m\"):\n",
    "    i=tf.multiply(j,p)\n",
    "    k=tf.subtract(q,i)\n",
    "    print(sess.run(k))  \n",
    "    \n",
    "with tf.Session() as sess:\n",
    "    writer = tf.summary.FileWriter(\"/tmp/tboard/output\", sess.graph)\n",
    "    print(sess.run(k))\n",
    "    writer.close()\n",
    "\n"
   ]
  },
  {
   "cell_type": "code",
   "execution_count": 4,
   "metadata": {},
   "outputs": [
    {
     "name": "stdout",
     "output_type": "stream",
     "text": [
      "18.1857\n",
      "17.6571\n",
      "[[ -5.88571262  16.01428795   5.31428719   3.2142868   -8.18571281\n",
      "   -5.2857132   -5.18571281]]\n",
      "451.509\n",
      "114.196\n",
      "0.25292\n",
      "13.0576\n",
      "4.54654\n",
      "13.0576\n"
     ]
    }
   ],
   "source": [
    "import tensorflow as tf\n",
    "\n",
    "with tf.name_scope(\"var\"):\n",
    "    with tf.name_scope(\"mean_x\"):\n",
    "        A=tf.constant([12.3,34.2,23.5,21.4,10,12.9,13],shape=[1,7],name='A')\n",
    "        B=tf.constant([23.8,22.7,21.6,12.3,12.7,14.5,16],shape=[1,7],name='B')\n",
    "        x=tf.reduce_mean(A)\n",
    "        sess=tf.Session()\n",
    "    print(sess.run(x))\n",
    "    with tf.name_scope(\"mean_y\"):\n",
    "        y=tf.reduce_mean(B)\n",
    "        sess=tf.Session()\n",
    "        print(sess.run(y))\n",
    "d=tf.subtract(A,x)\n",
    "sess=tf.Session()\n",
    "print(sess.run(d))\n",
    "       \n",
    "e=tf.square(d)\n",
    "var=tf.reduce_sum(e)\n",
    "sess=tf.Session()\n",
    "print(sess.run(var))    \n",
    "    \n",
    "with tf.name_scope(\"covariance\"):\n",
    "    g=tf.subtract(B,y)\n",
    "    sess=tf.Session()\n",
    "    g=tf.multiply(d,g)\n",
    "    h=tf.reduce_sum(g)\n",
    "    print(sess.run(h))    \n",
    "\n",
    "with tf.name_scope(\"value_of_m\"):\n",
    "    j=tf.divide(h,var)\n",
    "    print(sess.run(j))\n",
    "\n",
    "with tf.name_scope(\"value_c\"):\n",
    "    i=tf.multiply(j,x)\n",
    "    k=tf.subtract(y,i)\n",
    "    print(sess.run(k))  \n",
    "#calculating root mean square error\n",
    "with tf.name_scope(\"root_mean_square_error\"):\n",
    "    l=tf.subtract(B,y)\n",
    "    m=tf.multiply(l, l)\n",
    "    n=tf.reduce_sum(m)\n",
    "    o=tf.divide(n, 7,)\n",
    "    p=tf.sqrt(o)\n",
    "    print (sess.run(p))\n",
    "    \n",
    "\n",
    "with tf.Session() as sess:\n",
    "    writer = tf.summary.FileWriter(\"/tmp/tboard/output1\", sess.graph)\n",
    "    print(sess.run(k))\n",
    "    writer.close()\n",
    "\n"
   ]
  },
  {
   "cell_type": "code",
   "execution_count": 7,
   "metadata": {},
   "outputs": [
    {
     "name": "stdout",
     "output_type": "stream",
     "text": [
      "[13.310526, 13.563447, 13.816367, 14.069287, 14.322207]\n"
     ]
    }
   ],
   "source": [
    "#estimating y values from x values\n",
    "import numpy \n",
    "\n",
    "with tf.Session() as sess:\n",
    "    x1=sess.run(A)\n",
    "    y1=sess.run(B)\n",
    "graph_X = numpy.asarray(x1)\n",
    "graph_Y = numpy.asarray(y1)\n",
    "\n",
    "\n",
    "x2=tf.constant([1.0,2.0,3.0,4.0,5.0])\n",
    "with tf.Session() as sess:\n",
    "    x3=sess.run(x2)\n",
    "x4=numpy.asarray(x3)\n",
    "\n",
    "y2=[0]*5\n",
    "    \n",
    "with tf.Session() as sess:\n",
    "        for i in range(len(sess.run(x2))):\n",
    "            xx = sess.run(x2[i])\n",
    "            a=tf.multiply(xx,j)\n",
    "            b=tf.add(a,k)\n",
    "            y2[i]=sess.run(b)\n",
    "print(y2)"
   ]
  },
  {
   "cell_type": "code",
   "execution_count": 8,
   "metadata": {},
   "outputs": [
    {
     "data": {
      "image/png": "[encoded data removed]",
      "text/plain": [
       "<matplotlib.figure.Figure at 0x7ffb95ee8208>"
      ]
     },
     "metadata": {},
     "output_type": "display_data"
    }
   ],
   "source": [
    "#graphs\n",
    "import matplotlib.pyplot as plt\n",
    "plt.plot(graph_X,graph_Y, 'ro', label='Actual values')\n",
    "plt.plot(x4, y2, label='fitted line')\n",
    "plt.legend()\n",
    "plt.show()"
   ]
  },
  {
   "cell_type": "code",
   "execution_count": null,
   "metadata": {
    "collapsed": true
   },
   "outputs": [],
   "source": []
  },
  {
   "cell_type": "code",
   "execution_count": null,
   "metadata": {
    "collapsed": true
   },
   "outputs": [],
   "source": []
  }
 ],
 "metadata": {
  "kernelspec": {
   "display_name": "Python 3",
   "language": "python",
   "name": "python3"
  },
  "language_info": {
   "codemirror_mode": {
    "name": "ipython",
    "version": 3
   },
   "file_extension": ".py",
   "mimetype": "text/x-python",
   "name": "python",
   "nbconvert_exporter": "python",
   "pygments_lexer": "ipython3",
   "version": "3.6.1"
  }
 },
 "nbformat": 4,
 "nbformat_minor": 2
}
